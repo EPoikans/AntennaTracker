{
 "cells": [
  {
   "cell_type": "code",
   "execution_count": 1,
   "metadata": {},
   "outputs": [],
   "source": [
    "import cv2\n",
    "import os\n",
    "import time\n",
    "import pymavlink\n",
    "from multiprocessing import Process\n",
    "import numpy as np"
   ]
  },
  {
   "cell_type": "code",
   "execution_count": 2,
   "metadata": {},
   "outputs": [],
   "source": [
    "#Loading training images and labels and saving the data\n",
    "images = []\n",
    "labels = np.array([2,0,0,3,3,9,9,6,6,8,8,6,6,1,1,9,9,6,6,5,5,8,8,7,7,7,7,5,5,7,7,1,1,3,3,4,4,2,2])\n",
    "trainedlabels = labels[:,np.newaxis]\n",
    "#print(trainedlabels.shape)\n",
    "#print(trainedlabels)\n",
    "picnum = 39\n",
    "img_data = []\n",
    "for i in range(picnum):\n",
    "\ttempimg = cv2.imread('../images/%1d.png' %i)\n",
    "\ttempimg = cv2.cvtColor(tempimg, cv2.COLOR_BGR2GRAY)\n",
    "\t#tempimg = cv2.resize(tempimg, (10,10), interpolation=cv2.INTER_AREA)\n",
    "\t#cv2.waitKey(500)\n",
    "\t#print('%1d.png' %i)\n",
    "\t#cv2.imshow('boo', tempimg)\n",
    "\timages.append(tempimg.copy())\n",
    "\t#print(tempimg)\n",
    "\timg_data.append(tempimg.copy())\n",
    "images = np.array(images)\n",
    "img_data = np.array(img_data)\n",
    "#print(img_data)\n",
    "#train_array = img_data.reshape(-1,100).astype(np.float32)\n",
    "train_array = img_data.reshape(-1,900).astype(np.float32)\n",
    "#print(train_array.shape)\n",
    "#print(train_array[1])\n",
    "#cv2.waitKey(5000)\n",
    "#cv2.destroyAllWindows()\n",
    "np.savez('knn_data_test.npz',train_array=train_array, trainedlabels=trainedlabels)\n"
   ]
  },
  {
   "cell_type": "code",
   "execution_count": 3,
   "metadata": {},
   "outputs": [
    {
     "name": "stdout",
     "output_type": "stream",
     "text": [
      "['train_array', 'trainedlabels']\n"
     ]
    },
    {
     "data": {
      "text/plain": [
       "True"
      ]
     },
     "execution_count": 3,
     "metadata": {},
     "output_type": "execute_result"
    }
   ],
   "source": [
    "\n",
    "with np.load('knn_data_test.npz') as data:\n",
    "    print( data.files )\n",
    "    train_array = data['train_array']\n",
    "    trainedlabels = data['trainedlabels']\n",
    "#print(trainedlabels)\n",
    "knn = cv2.ml.KNearest_create()\n",
    "knn.train(train_array, cv2.ml.ROW_SAMPLE, trainedlabels)"
   ]
  },
  {
   "cell_type": "code",
   "execution_count": 4,
   "metadata": {},
   "outputs": [
    {
     "name": "stdout",
     "output_type": "stream",
     "text": [
      "100.0\n"
     ]
    }
   ],
   "source": [
    "ret,result,neighbours,dist = knn.findNearest(train_array,k=1)\n",
    "matches = result==trainedlabels\n",
    "correct = np.count_nonzero(matches)\n",
    "accuracy = correct*100.0/result.size\n",
    "print( accuracy )\n",
    "#print(int(result[2]))"
   ]
  },
  {
   "cell_type": "code",
   "execution_count": 5,
   "metadata": {},
   "outputs": [],
   "source": [
    "#Native 1920x1080, video test 960x544\n",
    "# left top corner (x,y), right top corner(x,y), right bottom corner(x,y), left bottom corner(x,y)\n",
    "x_res = 960\n",
    "y_res = 544\n",
    "\n",
    "lat_contour = np.array([[int(730/960*x_res),int(326/544*y_res)],[int(920/960*x_res),int(326/544*y_res)],[int(920/960*x_res),int(354/544*y_res)],[int(730/960*x_res),int(354/544*y_res)]]) \n",
    "lon_contour = np.array([[int(730/960*x_res),int(355/544*y_res)],[int(920/960*x_res),int(355/544*y_res)],[int(920/960*x_res),int(380/544*y_res)],[int(730/960*x_res),int(380/544*y_res)]]) \n",
    "alt_contour = np.array([[int(20/960*x_res),int(410/544*y_res)],[int(110/960*x_res),int(410/544*y_res)],[int(110/960*x_res),int(440/544*y_res)],[int(20/960*x_res),int(440/544*y_res)]]) \n",
    "contour_arr = np.array([lat_contour, lon_contour, alt_contour])\n",
    "lat_width = abs(lat_contour[0,0]-lat_contour[1,0])\n",
    "lat_height = abs(lat_contour[0,1]-lat_contour[2,1])\n",
    "lon_width = abs(lon_contour[0,0]-lon_contour[1,0])\n",
    "lon_height = abs(lon_contour[0,1]-lon_contour[2,1])\n",
    "alt_width = abs(alt_contour[0,0]-alt_contour[1,0])\n",
    "alt_height = abs(alt_contour[0,1]-alt_contour[2,1])\n",
    "#print(np.shape(contour_arr))"
   ]
  },
  {
   "cell_type": "code",
   "execution_count": 6,
   "metadata": {},
   "outputs": [],
   "source": [
    "def img_to_number(img_frame, img_name):\n",
    "\tnumber_contour = cv2.findContours(img_frame.copy(), cv2.RETR_EXTERNAL, cv2.CHAIN_APPROX_SIMPLE)\n",
    "\tnumber_contour = number_contour[0]\n",
    "\t#print(number_contour)\n",
    "\tgood_contour = []\n",
    "\tgood_bounding_boxes = []\n",
    "\timg_array = []\n",
    "\timg_array_resized = []\n",
    "\t#resize_size = (10,10)\n",
    "\t#resize_size = (20,20)\n",
    "\tresize_size = (30,30)\n",
    "\tfor i in number_contour:\n",
    "\t\t(x,y,w,h) = cv2.boundingRect(i)\n",
    "\t\t#print(x,y,w,y,i,cv2.boundingRect(i))\n",
    "\t\tif w>=5 and (h>= 15):\n",
    "\t\t\tgood_contour.append(i)\n",
    "\t\t\tgood_bounding_boxes.append(cv2.boundingRect(i))\n",
    "\t#good_bounding_boxes = list(good_bounding_boxes)\n",
    "\tgood_bounding_boxes_arr = np.array(good_bounding_boxes)\n",
    "\t#print(good_bounding_boxes_arr)\n",
    "\t#print(type(good_bounding_boxes_arr))\n",
    "\t#print(good_bounding_boxes_arr[1])\n",
    "\t#print(type(good_bounding_boxes_arr[1]))\n",
    "\t#print(int(good_bounding_boxes_arr[1][0]))\n",
    "\t#print(type((good_bounding_boxes_arr[0][1])))\n",
    "\ti = 0\n",
    "\tfor i in range(good_bounding_boxes_arr.shape[0]):\n",
    "\t\ty1 = good_bounding_boxes_arr[i,1].item()\n",
    "\t\ty2 = int(good_bounding_boxes_arr[i,1])+int(good_bounding_boxes_arr[i,3])\n",
    "\t\tx1 = int(good_bounding_boxes_arr[i,0])\n",
    "\t\tx2 = int(good_bounding_boxes_arr[i,0])+int(good_bounding_boxes_arr[i,2])\n",
    "\t\ttempimg = img_frame[y1:y2, x1:x2]\n",
    "\t\timg_array.append(tempimg.copy())\n",
    "\t\ttemp_resized_img = cv2.resize(tempimg, resize_size, interpolation=cv2.INTER_AREA)\n",
    "\t\timg_array_resized.append(temp_resized_img.copy())\n",
    "\t\t#cv2.imwrite('numberr%5d.png' %i, temp_resized_img.copy())\n",
    "\t#img_frame = cv2.drawContours(img_frame, good_contour, -1, (255,255,255), 2)\n",
    "\t#cv2.imshow(img_name, img_frame)\n",
    "\t#numarea = img_frame[5:5+19, 173:173+12]\n",
    "\t#cv2.imshow('bam', img_array_resized[2])\n",
    "\timg_array_resized = np.array(img_array_resized)\n",
    "\t#img_array_resized = img_array_resized.reshape(-1,100).astype(np.float32)\n",
    "\timg_array_resized = img_array_resized.reshape(-1,900).astype(np.float32)\n",
    "\tret,result,neighbours,dist = knn.findNearest(img_array_resized,k=1)\n",
    "\tendstring = str(int(result[(len(result)-1)]))\n",
    "\ti=0\n",
    "\tfor i in range (len(result)-1):\n",
    "\t\tendstring = endstring + str(int(result[(len(result)-2-i)]))\n",
    "\tif(len(result)>=7):\n",
    "\t\tendnum = int(endstring)/(10000000)\n",
    "\telse:\n",
    "\t\tendnum = int(endstring) \n",
    "\t#print(endnum)\n",
    "\t#print(len(result))\n",
    "\t#cv2.imshow('nam', numarea)\n",
    "\treturn endnum"
   ]
  },
  {
   "cell_type": "code",
   "execution_count": 7,
   "metadata": {},
   "outputs": [
    {
     "name": "stdout",
     "output_type": "stream",
     "text": [
      "24.3175778 56.9168693 0\n",
      "24.3175778 56.9168693 0\n",
      "24.3175778 56.9168693 0\n",
      "24.3175778 56.9168693 0\n",
      "24.3175778 56.9168693 0\n",
      "24.3175778 56.9168693 0\n",
      "24.3175778 56.9168693 0\n"
     ]
    }
   ],
   "source": [
    "#Displays every 20th frame from video currently, live feed later\n",
    "testvid = cv2.VideoCapture('C:/Users/Eriks/Desktop/drone_feed_test.mp4') \n",
    "videofps = 60\n",
    "capture_frequency = 5 # analyzed frames per second\n",
    "i = 0\n",
    "show_full_frame = 0 #Value 1 used for seeing the full screen before area cropping\n",
    "while(testvid.isOpened()):\n",
    "\tfor i in range (int(videofps/capture_frequency)):\n",
    "\t\tframestatus, frame = testvid.read()\n",
    "\ti = 0\n",
    "\tif not framestatus:\n",
    "\t\tprint('boowomp')\n",
    "\t\tbreak\n",
    "\tgrayframe = cv2.cvtColor(frame, cv2.COLOR_BGR2GRAY)\n",
    "\tframestatus2, tresholdframe = cv2.threshold(grayframe,220,255,cv2.THRESH_TOZERO) #Removes background\n",
    "\tif not framestatus2:\n",
    "\t\tprint('boowomp')\n",
    "\t\tbreak\n",
    "\tif(show_full_frame == 1): #Testing the full view\n",
    "\t\tcv2.drawContours(tresholdframe, contour_arr, -1 ,(255,255,255), 1)\n",
    "\t\tcv2.imshow('frame', tresholdframe)\n",
    "\tlat_area = tresholdframe[lat_contour[0,1]:lat_contour[0,1]+lat_height, lat_contour[0,0]:lat_contour[0,0]+lat_width]\n",
    "\tlon_area = tresholdframe[lon_contour[0,1]:lon_contour[0,1]+lon_height, lon_contour[0,0]:lon_contour[0,0]+lon_width]\n",
    "\talt_area = tresholdframe[alt_contour[0,1]:alt_contour[0,1]+alt_height, alt_contour[0,0]:alt_contour[0,0]+alt_width]\n",
    "\t#cv2.imshow('lat', lat_area)\n",
    "\t\n",
    "\tlat = img_to_number(lat_area, 'lat')\n",
    "\tlon = img_to_number(lon_area, 'lon')\n",
    "\talt = img_to_number(alt_area, 'alt')\n",
    "\tprint(lat,lon,alt)\n",
    "\t#cv2.imshow('lon', lon_area)\n",
    "\t#cv2.imshow('alt', alt_area)\n",
    "\t#cv2.imwrite('drone_test_frame_lat.png', lat_area)\n",
    "\t#print('show')\n",
    "\tif cv2.waitKey(1000) == ord('q'):\n",
    "\t\tbreak\n",
    "testvid.release()\n",
    "cv2.destroyAllWindows()\n",
    "print('done')"
   ]
  }
 ],
 "metadata": {
  "kernelspec": {
   "display_name": "Python 3",
   "language": "python",
   "name": "python3"
  },
  "language_info": {
   "codemirror_mode": {
    "name": "ipython",
    "version": 3
   },
   "file_extension": ".py",
   "mimetype": "text/x-python",
   "name": "python",
   "nbconvert_exporter": "python",
   "pygments_lexer": "ipython3",
   "version": "3.11.7"
  }
 },
 "nbformat": 4,
 "nbformat_minor": 2
}
